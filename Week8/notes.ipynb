{
 "cells": [
  {
   "cell_type": "markdown",
   "metadata": {},
   "source": [
    "# Multiclass logistic decoders\n",
    "\n",
    "Multiclass data\n",
    "Softmax\n",
    "SKlearn fit\n",
    "Confusion matrix\n",
    "Continuous data, time series\n",
    "Viterbi/HMM\n",
    "\n"
   ]
  },
  {
   "cell_type": "code",
   "execution_count": null,
   "metadata": {},
   "outputs": [],
   "source": []
  }
 ],
 "metadata": {
  "language_info": {
   "name": "python"
  }
 },
 "nbformat": 4,
 "nbformat_minor": 2
}
