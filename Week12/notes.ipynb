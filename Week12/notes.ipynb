{
 "cells": [
  {
   "cell_type": "markdown",
   "metadata": {},
   "source": [
    "# Naive bayesian decoder\n",
    "Generative classifiers\n",
    "\n",
    "Conditional probabilities\n",
    "Tuning curves to probabilities\n",
    "Noise correlation\n",
    "Bayes rule\n",
    "Naive bayes"
   ]
  },
  {
   "cell_type": "code",
   "execution_count": null,
   "metadata": {},
   "outputs": [],
   "source": []
  }
 ],
 "metadata": {
  "language_info": {
   "name": "python"
  }
 },
 "nbformat": 4,
 "nbformat_minor": 2
}
