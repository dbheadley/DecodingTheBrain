{
 "cells": [
  {
   "cell_type": "markdown",
   "metadata": {},
   "source": [
    "# Naive bayesian decoder\n",
    "Generative classifiers\n",
    "\n",
    "Conditional probabilities\n",
    "\n",
    "Tuning curves to probabilities\n",
    "\n",
    "Bayes rule\n",
    "\n",
    "Naive bayes classifier with numpy\n",
    "\n",
    "Naive bayes classifier with sklearn\n",
    "\n",
    "Noise correlation and normalization\n",
    "\n"
   ]
  },
  {
   "cell_type": "code",
   "execution_count": 1,
   "metadata": {},
   "outputs": [
    {
     "name": "stderr",
     "output_type": "stream",
     "text": [
      "/Users/drewheadley/anaconda3/envs/decode_brain/lib/python3.9/site-packages/tqdm/auto.py:21: TqdmWarning: IProgress not found. Please update jupyter and ipywidgets. See https://ipywidgets.readthedocs.io/en/stable/user_install.html\n",
      "  from .autonotebook import tqdm as notebook_tqdm\n"
     ]
    }
   ],
   "source": [
    "import os\n",
    "import sys\n",
    "sys.path.append('..')\n",
    "import numpy as np\n",
    "import pandas as pd\n",
    "import matplotlib.pyplot as plt\n",
    "from scipy.optimize import curve_fit\n",
    "from sklearn.mixture import GaussianMixture\n",
    "from scipy.stats import norm\n",
    "from allensdk.brain_observatory.ecephys.ecephys_project_cache import EcephysProjectCache\n",
    "from source.spikes import spikes_to_df, rf"
   ]
  },
  {
   "cell_type": "markdown",
   "metadata": {},
   "source": [
    "## Generative vs. discriminative classifiers\n",
    "\n",
    "So far we have used logistic regression classifiers to do our decoding. These take a set of features and use them to predict the probability of the event class that generated it. "
   ]
  },
  {
   "cell_type": "markdown",
   "metadata": {},
   "source": [
    "## Conditional probability\n",
    "\n",
    "We already mentioned conditional probabilities when discussing how to interpret the logistic function. In that case, the logisitic function reflects the probability of a certain event occurring given the features in our data, $p(y|x)$, where $y$ is the event and $x$ are the features. Across all possible classes there will be a different $p(y_k|x)$, and the sum of those probabilities across all possible classes will be 1:\n",
    "\n",
    "$$ \\sum_{k=1}^{K}{p(y_k|x)} = 1 $$\n",
    "\n",
    "When evaluating the probability across all classes, the $x$ is kept constant. \n",
    "\n",
    "The general way to express conditional probability is:\n",
    "\n",
    "$$ p(y|x) = \\frac{p(y,x)}{p(x)} \\tag{eq. 1} $$\n",
    "\n",
    "Here $p(y,x)$ is the probability that particular instances of $y$ and $x$ ever co-occur. If we divide that by the probability of $x$ occurring, $p(x)$, then we have the probability of $y$ *conditional* on $x$. That is, it is the probability of $y$ for all instances when $x$ is of a particular value.\n",
    "\n",
    "When $y$ and $x$ are conditionally independent of one another then $p(y|x)=p(y)p(x)$. This just means that the chance $y$ occurring with $x$ will equal to the probability that either of those happen in general (irrespective of each other). This is what is meant by conditional independence. \n",
    "\n"
   ]
  },
  {
   "cell_type": "markdown",
   "metadata": {},
   "source": [
    "## Bayes' theorem\n",
    "\n",
    "Given equation 1 and a little algebra, we can establish a fundamental relationship between conditional probabilities known as Bayes' rule or theorem. Note that swapping $x$ and $y$, we get the equation $p(x|y)=\\frac{p(x,y)}{p(y)}$. Also note that $p(y,x) = p(x,y)$. With these facts, we can write:\n",
    "\n",
    "$$ \\begin{align}\n",
    "    p(y|x)p(x) &= p(y,x) = p(x,y) = p(x|y)p(y) \\notag \\\\\n",
    "    p(y|x)p(x) &= p(x|y)p(y) \\notag \\\\\n",
    "    p(y|x) &= \\frac{p(x|y)p(y)}{p(x)} \\tag{2} \\\\\n",
    "    \\end{align}\n",
    "$$\n",
    "\n",
    "This powerful relationship shows how to go from the conditional probability of $x$ given $y$, to that of $y$ given $x$. \n",
    "\n",
    "Why is this relaiontship important? Returning to decoders, their goal is to estimate the probability of behavioral or stimulus events, $y_k$, given patterns in brain activity, $x$. In the previous lectures we estimated this probability, $p(y_k|x)$ using logistic regression. The event $k$ with the largest probability was then chosen as the one most likely to have occured. However, Bayes' theorem offers an alternative approach. Instead we can derive that by measuring the probability of observing our brain data given that event $y_k$ occured and use that, along with our knowledge about how often $y_k$ occurs.\n",
    "\n",
    "Bayes' theorem is so prominent that each term in it has a name:\n",
    "1. $p(y|x)$ is the *posterior*. This is the probability of an event given the brain data.\n",
    "2. $p(x|y)$ is the *likelihood*. This is the probability of the brain data given an event.\n",
    "3. $p(y)$ is the *prior*. This is the probability of an event occuring.\n",
    "4. $p(x)$ is the *evidence*. This is the probability of the observed brain data occuring.\n",
    "\n",
    "Both the likelihood and prior can be determined from the data we have been working with so far. Less tractable is an estimate of the evidence, the probability of the brain data, because that would require us to observe all possible brain states. Fortunately, with classification we just want the event with the highest probability, and do not care about its *actual* probability. For a given decoding estimate we, we want to estimate $p(y|x)$ for a certain brain state we observed, $x$. This means that the $p(x)$ in Bayes' rule will be held constant across all possible events, $y_k$. Thus, while we do not know the exact value of $p(x)$, it is just rescaling the values of $p(y|x)$. This will not change which $y_k$ is highest or lowest, so leaving it out has no impact on our ability to classify. As a result, for our decoder can use the following rule:\n",
    "\n",
    "$$ \\text{selection} = \\arg\\max_{y_k}p(x|y)p(y) $$\n",
    "\n",
    "Let's give this a try with a single neuron from the Allen Institute data set."
   ]
  },
  {
   "cell_type": "markdown",
   "metadata": {},
   "source": [
    "## Bayes' theorem and the single neuron\n",
    "\n",
    "To start, we will load in the neurons from last week and select one with well defined tuning for orientation."
   ]
  },
  {
   "cell_type": "code",
   "execution_count": 3,
   "metadata": {},
   "outputs": [
    {
     "name": "stderr",
     "output_type": "stream",
     "text": [
      "/Users/drewheadley/anaconda3/envs/decode_brain/lib/python3.9/site-packages/hdmf/spec/namespace.py:531: UserWarning: Ignoring cached namespace 'hdmf-common' version 1.1.3 because version 1.8.0 is already loaded.\n",
      "  warn(\"Ignoring cached namespace '%s' version %s because version %s is already loaded.\"\n",
      "/Users/drewheadley/anaconda3/envs/decode_brain/lib/python3.9/site-packages/hdmf/spec/namespace.py:531: UserWarning: Ignoring cached namespace 'core' version 2.2.2 because version 2.6.0-alpha is already loaded.\n",
      "  warn(\"Ignoring cached namespace '%s' version %s because version %s is already loaded.\"\n"
     ]
    }
   ],
   "source": [
    "# initialize data cache\n",
    "allen_dir = ['..','data','spike_allen']\n",
    "manifest_path = os.path.join(*allen_dir,'manifest.json')\n",
    "cache = EcephysProjectCache(manifest=manifest_path)\n",
    "\n",
    "# get session\n",
    "sess_id = 750332458\n",
    "sess = cache.get_session_data(sess_id, filter_by_validity=False)\n",
    "stims = sess.stimulus_presentations\n",
    "\n",
    "# get the ids of the units that passed quality control last week\n",
    "# save as an numpy file where the Allen cache is stored\n",
    "ids_path = os.path.join(*allen_dir,'clean_unit_ids.npy')\n",
    "unit_ids = np.load(ids_path)\n",
    "\n",
    "# get stimulus presentations\n",
    "dg_stims = stims[stims['stimulus_name'] == 'drifting_gratings']\n",
    "dg_stims = dg_stims[(dg_stims['contrast']!='null') |\n",
    "                    (dg_stims['spatial_frequency']!='null') |\n",
    "                    (dg_stims['orientation']!='null') |\n",
    "                    (dg_stims['temporal_frequency']!='null')]\n",
    "\n",
    "# get the spike times as a dataframe\n",
    "spikes = spikes_to_df(sess)\n",
    "\n",
    "# keep only those rows whose index is in unit_ids\n",
    "spikes = spikes[spikes.index.isin(unit_ids)]\n",
    "\n",
    "# compute orientation RF for each unit\n",
    "spikes['rf_ori'] = spikes['times'].apply(\n",
    "    lambda x: rf(dg_stims, [0, 2]).compute(x, dims=['orientation']))\n",
    "\n",
    "# get the empirical orientation tuning curve\n",
    "spikes['rf_ori_emp'] = spikes['rf_ori'].apply(lambda x: x.rf())"
   ]
  },
  {
   "cell_type": "code",
   "execution_count": 30,
   "metadata": {},
   "outputs": [
    {
     "data": {
      "text/html": [
       "<div>\n",
       "<style scoped>\n",
       "    .dataframe tbody tr th:only-of-type {\n",
       "        vertical-align: middle;\n",
       "    }\n",
       "\n",
       "    .dataframe tbody tr th {\n",
       "        vertical-align: top;\n",
       "    }\n",
       "\n",
       "    .dataframe thead th {\n",
       "        text-align: right;\n",
       "    }\n",
       "</style>\n",
       "<table border=\"1\" class=\"dataframe\">\n",
       "  <thead>\n",
       "    <tr style=\"text-align: right;\">\n",
       "      <th></th>\n",
       "      <th>spike_counts</th>\n",
       "    </tr>\n",
       "    <tr>\n",
       "      <th>orientation</th>\n",
       "      <th></th>\n",
       "    </tr>\n",
       "  </thead>\n",
       "  <tbody>\n",
       "    <tr>\n",
       "      <th>0.0</th>\n",
       "      <td>[0.0, 3.0, 1.0, 1.0, 4.0, 1.0, 2.0, 6.0, 13.0,...</td>\n",
       "    </tr>\n",
       "    <tr>\n",
       "      <th>45.0</th>\n",
       "      <td>[8.0, 15.0, 10.0, 0.0, 0.0, 9.0, 0.0, 2.0, 2.0...</td>\n",
       "    </tr>\n",
       "    <tr>\n",
       "      <th>90.0</th>\n",
       "      <td>[11.0, 3.0, 6.0, 5.0, 21.0, 28.0, 20.0, 1.0, 1...</td>\n",
       "    </tr>\n",
       "    <tr>\n",
       "      <th>135.0</th>\n",
       "      <td>[1.0, 3.0, 1.0, 1.0, 0.0, 7.0, 1.0, 3.0, 8.0, ...</td>\n",
       "    </tr>\n",
       "    <tr>\n",
       "      <th>180.0</th>\n",
       "      <td>[0.0, 1.0, 4.0, 1.0, 4.0, 1.0, 1.0, 3.0, 8.0, ...</td>\n",
       "    </tr>\n",
       "    <tr>\n",
       "      <th>225.0</th>\n",
       "      <td>[6.0, 0.0, 1.0, 8.0, 14.0, 3.0, 13.0, 13.0, 9....</td>\n",
       "    </tr>\n",
       "    <tr>\n",
       "      <th>270.0</th>\n",
       "      <td>[12.0, 8.0, 8.0, 9.0, 12.0, 14.0, 2.0, 12.0, 1...</td>\n",
       "    </tr>\n",
       "    <tr>\n",
       "      <th>315.0</th>\n",
       "      <td>[0.0, 0.0, 0.0, 0.0, 1.0, 2.0, 4.0, 7.0, 1.0, ...</td>\n",
       "    </tr>\n",
       "  </tbody>\n",
       "</table>\n",
       "</div>"
      ],
      "text/plain": [
       "                                                  spike_counts\n",
       "orientation                                                   \n",
       "0.0          [0.0, 3.0, 1.0, 1.0, 4.0, 1.0, 2.0, 6.0, 13.0,...\n",
       "45.0         [8.0, 15.0, 10.0, 0.0, 0.0, 9.0, 0.0, 2.0, 2.0...\n",
       "90.0         [11.0, 3.0, 6.0, 5.0, 21.0, 28.0, 20.0, 1.0, 1...\n",
       "135.0        [1.0, 3.0, 1.0, 1.0, 0.0, 7.0, 1.0, 3.0, 8.0, ...\n",
       "180.0        [0.0, 1.0, 4.0, 1.0, 4.0, 1.0, 1.0, 3.0, 8.0, ...\n",
       "225.0        [6.0, 0.0, 1.0, 8.0, 14.0, 3.0, 13.0, 13.0, 9....\n",
       "270.0        [12.0, 8.0, 8.0, 9.0, 12.0, 14.0, 2.0, 12.0, 1...\n",
       "315.0        [0.0, 0.0, 0.0, 0.0, 1.0, 2.0, 4.0, 7.0, 1.0, ..."
      ]
     },
     "execution_count": 30,
     "metadata": {},
     "output_type": "execute_result"
    }
   ],
   "source": [
    "spikes.loc[sel_unit]['rf_ori'].stim_counts"
   ]
  },
  {
   "cell_type": "code",
   "execution_count": 26,
   "metadata": {},
   "outputs": [],
   "source": [
    "sel_unit = 951815599"
   ]
  },
  {
   "cell_type": "code",
   "execution_count": 32,
   "metadata": {},
   "outputs": [
    {
     "data": {
      "text/plain": [
       "array([[array([ 0.,  3.,  1.,  1.,  4.,  1.,  2.,  6., 13.,  2.,  0.,  7.,  4.,\n",
       "                5.,  2.,  5.,  1.,  5.,  1., 14.,  2.,  2.,  1., 13.,  6., 11.,\n",
       "                2., 11., 16., 21., 10.,  1.,  0.,  5.,  8., 36.,  7.,  4.,  8.,\n",
       "                6.,  8.,  6.,  1.,  0.,  8.,  2.,  2.,  6., 15.,  6.,  7., 11.,\n",
       "                4.,  0.,  3.,  2.,  2.,  8.,  7.,  4.,  3.,  3.,  3.,  1.,  1.,\n",
       "                1.,  1.,  1.,  1.,  2.,  2.,  1.,  5., 12., 34.])              ],\n",
       "       [array([ 8., 15., 10.,  0.,  0.,  9.,  0.,  2.,  2.,  6., 14.,  9., 12.,\n",
       "                1.,  8., 13.,  9., 21.,  6., 30., 33., 37., 37., 31., 44.,  8.,\n",
       "                9.,  5., 16.,  6., 11., 18.,  1.,  5., 19.,  2., 27., 23., 10.,\n",
       "               33., 21., 10.,  7.,  2.,  1.,  7., 23.,  8.,  5.,  6.,  8.,  4.,\n",
       "                7., 11.,  4.,  4.,  3.,  5.,  2.,  3.,  5.,  4.,  5.,  7.,  1.,\n",
       "                2.,  2.,  4.,  5.,  2.,  4.,  3., 12., 19.,  8.])              ],\n",
       "       [array([11.,  3.,  6.,  5., 21., 28., 20.,  1., 19., 32., 26.,  3.,  6.,\n",
       "               22.,  3., 22., 16.,  2.,  5., 25., 17., 29., 17., 15., 11., 38.,\n",
       "               25.,  6., 11., 32., 33., 37., 42., 17., 13., 33., 37., 11., 13.,\n",
       "                9., 42., 47., 21., 17., 49., 18., 14., 27.,  8.,  4., 28.,  3.,\n",
       "                9.,  6.,  5.,  5.,  7., 14.,  5.,  2.,  2.,  5.,  4.,  5.,  5.,\n",
       "               13., 42.,  1.,  8., 28.,  7.,  5., 52., 12., 15.])              ],\n",
       "       [array([ 1.,  3.,  1.,  1.,  0.,  7.,  1.,  3.,  8.,  1.,  7.,  3.,  1.,\n",
       "                3.,  4.,  8.,  3.,  2.,  6.,  1., 23.,  3.,  1.,  3., 11.,  2.,\n",
       "                5.,  6.,  4., 21., 14., 21., 12.,  5.,  5.,  4.,  7.,  1.,  6.,\n",
       "               16.,  6., 21.,  3.,  3., 12.,  4., 14.,  6.,  2., 18.,  9.,  5.,\n",
       "                3.,  5.,  2.,  3.,  2.,  6.,  3.,  5.,  4.,  4.,  3.,  0.,  2.,\n",
       "                2.,  2.,  1.,  7.,  1.,  4.,  2.,  4.,  7.,  4.])              ],\n",
       "       [array([ 0.,  1.,  4.,  1.,  4.,  1.,  1.,  3.,  8.,  2.,  2.,  6.,  0.,\n",
       "                5.,  5.,  2.,  7.,  3.,  5.,  8.,  2.,  3., 15.,  2., 16.,  2.,\n",
       "                1.,  0.,  2.,  8., 11.,  8.,  1.,  0.,  4., 23.,  7., 11.,  1.,\n",
       "                1.,  3.,  8.,  5.,  5.,  6.,  5.,  2.,  2.,  8.,  8.,  3.,  2.,\n",
       "                2.,  4.,  4.,  4.,  2.,  2.,  4.,  2.,  3.,  4.,  8.,  1.,  4.,\n",
       "                5.,  1.,  4.,  6.,  2.,  3.,  2.,  2.,  0.,  0.])              ],\n",
       "       [array([ 6.,  0.,  1.,  8., 14.,  3., 13., 13.,  9.,  3., 21.,  3.,  4.,\n",
       "                6., 10., 25., 14., 22.,  2., 18., 15., 22., 15.,  9., 16., 12.,\n",
       "                5., 14., 21., 10., 20., 28.,  7., 11., 30., 23., 11.,  3., 15.,\n",
       "               14., 22., 25., 16., 12.,  6., 12., 29., 17.,  8., 32.,  9.,  7.,\n",
       "                7., 28.,  3.,  5.,  4.,  8.,  3., 10.,  1.,  4.,  6.,  3.,  9.,\n",
       "               10.,  5.,  6.,  5.,  7.,  6.,  5.,  3., 11., 20.])              ],\n",
       "       [array([12.,  8.,  8.,  9., 12., 14.,  2., 12., 15.,  8., 37., 16.,  1.,\n",
       "               35.,  0., 29., 25., 29., 19., 37., 11.,  5., 40.,  9., 11.,  8.,\n",
       "               34., 31., 27.,  1.,  8., 15., 35., 34., 74., 55., 15., 15.,  9.,\n",
       "                6.,  9., 16., 43., 33., 25., 30., 45., 32., 38., 16., 13.,  8.,\n",
       "                6.,  9.,  5., 32.,  3., 20.,  6.,  3.,  3.,  8.,  3.,  7.,  9.,\n",
       "                4., 14.,  3.,  4.,  7.,  4.,  6., 35., 27., 17.])              ],\n",
       "       [array([ 0.,  0.,  0.,  0.,  1.,  2.,  4.,  7.,  1.,  2.,  4.,  4., 17.,\n",
       "               19.,  4., 16.,  3.,  8.,  3.,  3., 14., 12.,  2.,  6., 14., 20.,\n",
       "                8.,  1., 16., 13.,  3.,  0.,  4.,  3., 13., 14., 12., 21., 19.,\n",
       "                6.,  6.,  7.,  6.,  2., 12.,  8., 14.,  5.,  0.,  4.,  5.,  4.,\n",
       "                2.,  8.,  3.,  1.,  4.,  3.,  1.,  5.,  1.,  1.,  5.,  3.,  2.,\n",
       "                4.,  2.,  1.,  1.,  2.,  2.,  0.,  6., 42.,  5.])              ]],\n",
       "      dtype=object)"
      ]
     },
     "execution_count": 32,
     "metadata": {},
     "output_type": "execute_result"
    }
   ],
   "source": [
    "spikes.loc[sel_unit]['rf_ori'].stim_counts.values"
   ]
  },
  {
   "cell_type": "code",
   "execution_count": 56,
   "metadata": {},
   "outputs": [
    {
     "data": {
      "text/plain": [
       "array([  0.,  45.,  90., 135., 180., 225., 270., 315.])"
      ]
     },
     "execution_count": 56,
     "metadata": {},
     "output_type": "execute_result"
    }
   ],
   "source": [
    "spikes.loc[sel_unit]['rf_ori'].stim_counts.index.values"
   ]
  },
  {
   "cell_type": "code",
   "execution_count": 58,
   "metadata": {},
   "outputs": [
    {
     "data": {
      "image/png": "[encoded data removed]",
      "text/plain": [
       "<Figure size 640x480 with 1 Axes>"
      ]
     },
     "metadata": {},
     "output_type": "display_data"
    }
   ],
   "source": [
    "plt.plot(spikes.loc[sel_unit]['rf_ori_emp'][2][0], spikes.loc[sel_unit]['rf_ori_emp'][0].flatten())\n",
    "\n",
    "\n",
    "for ori, counts in spikes.loc[sel_unit]['rf_ori'].stim_counts.iterrows():\n",
    "    plt.violinplot(counts.values[0], positions=[ori], widths=30)\n",
    "plt.show()"
   ]
  },
  {
   "cell_type": "code",
   "execution_count": null,
   "metadata": {},
   "outputs": [],
   "source": []
  }
 ],
 "metadata": {
  "kernelspec": {
   "display_name": "decode_brain",
   "language": "python",
   "name": "python3"
  },
  "language_info": {
   "codemirror_mode": {
    "name": "ipython",
    "version": 3
   },
   "file_extension": ".py",
   "mimetype": "text/x-python",
   "name": "python",
   "nbconvert_exporter": "python",
   "pygments_lexer": "ipython3",
   "version": "3.9.18"
  }
 },
 "nbformat": 4,
 "nbformat_minor": 2
}
