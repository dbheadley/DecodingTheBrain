{
 "cells": [
  {
   "cell_type": "markdown",
   "metadata": {},
   "source": [
    "# Naive bayesian decoder\n",
    "Generative classifiers\n",
    "\n",
    "Conditional probabilities\n",
    "\n",
    "Tuning curves to probabilities\n",
    "\n",
    "Bayes rule\n",
    "\n",
    "Naive bayes classifier\n",
    "\n",
    "Noise correlation"
   ]
  },
  {
   "cell_type": "code",
   "execution_count": null,
   "metadata": {},
   "outputs": [],
   "source": []
  }
 ],
 "metadata": {
  "language_info": {
   "name": "python"
  }
 },
 "nbformat": 4,
 "nbformat_minor": 2
}
