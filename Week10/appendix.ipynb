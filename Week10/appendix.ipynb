{
 "cells": [
  {
   "cell_type": "markdown",
   "metadata": {},
   "source": [
    "## Appendix PCA properties\n",
    "Fourier components emerge for 'nonsignificant' components. Seems to depend on smoothness of data.\n",
    "\n",
    "Related to eigen decomposition of toeplitz matrices.\n",
    "\n",
    "Can lead to spurious results, so be careful: \n",
    "\n",
    "https://www.pnas.org/doi/10.1073/pnas.2311420120\n",
    "\n",
    "https://journals.physiology.org/doi/abs/10.1152/jn.1996.76.6.3823"
   ]
  },
  {
   "cell_type": "code",
   "execution_count": null,
   "metadata": {},
   "outputs": [],
   "source": [
    "import numpy as np\n",
    "from sklearn.decomposition import PCA\n",
    "import matplotlib.pyplot as plt"
   ]
  },
  {
   "cell_type": "code",
   "execution_count": null,
   "metadata": {},
   "outputs": [],
   "source": [
    "# Set PCA parameters\n",
    "n_comp = 20\n",
    "\n",
    "# Create PCA object\n",
    "pca = PCA(n_components=n_comp)\n",
    "\n",
    "# Apply PCA to each channel separately\n",
    "pca_chans = [pca.fit_transform(x.squeeze()) for x in np.split(waves, chan_num, axis=2)]\n",
    "\n",
    "# Recombine components across channels\n",
    "pca_chans = np.stack(pca_chans,axis=2)"
   ]
  },
  {
   "cell_type": "code",
   "execution_count": null,
   "metadata": {},
   "outputs": [],
   "source": [
    "waves_rand = waves.copy()\n",
    "\n",
    "for i in range(waves.shape[0]):\n",
    "    for j in range(waves.shape[2]):\n",
    "        waves_rand[i,:,j]=np.random.choice(waves[i,:,j])\n",
    "\n",
    "# Set PCA parameters\n",
    "n_comp = 20\n",
    "\n",
    "# Create PCA object\n",
    "pca = PCA(n_components=n_comp)\n",
    "\n",
    "# Apply PCA to each channel separately\n",
    "pca_chans = [pca.fit_transform(x.squeeze()) for x in np.split(waves_rand, chan_num, axis=2)]\n",
    "\n",
    "# Recombine components across channels\n",
    "pca_chans = np.stack(pca_chans,axis=2)\n",
    "\n",
    "fig, ax = plt.subplots(1,1,figsize=(3,7))\n",
    "plt.plot(pca.components_.T+np.arange(20))\n",
    "plt.grid(True)"
   ]
  },
  {
   "cell_type": "code",
   "execution_count": null,
   "metadata": {},
   "outputs": [],
   "source": [
    "waves_shift = waves.copy()\n",
    "\n",
    "for i in range(waves.shape[0]):\n",
    "    for j in range(waves.shape[2]):\n",
    "        waves_shift[i,:,j]=np.roll(waves[i,:,j], np.random.choice(waves.shape[1],1))\n",
    "\n",
    "# Set PCA parameters\n",
    "n_comp = 20\n",
    "\n",
    "# Create PCA object\n",
    "pca = PCA(n_components=n_comp)\n",
    "\n",
    "# Apply PCA to each channel separately\n",
    "pca_chans = [pca.fit_transform(x.squeeze()) for x in np.split(waves_shift, chan_num, axis=2)]\n",
    "\n",
    "# Recombine components across channels\n",
    "pca_chans = np.stack(pca_chans,axis=2)\n",
    "\n",
    "fig, ax = plt.subplots(1,1,figsize=(3,7))\n",
    "plt.plot(pca.components_.T+np.arange(20)*0.5)\n",
    "plt.grid(True)"
   ]
  }
 ],
 "metadata": {
  "language_info": {
   "name": "python"
  }
 },
 "nbformat": 4,
 "nbformat_minor": 2
}
