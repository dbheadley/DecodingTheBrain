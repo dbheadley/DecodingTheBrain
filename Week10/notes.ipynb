{
 "cells": [
  {
   "cell_type": "markdown",
   "metadata": {},
   "source": [
    "# Processing neuronal spikes\n",
    "\n",
    "Action potentials and extracellular electrodes\n",
    "Spikes reflect highly local activity, can be separated into MUA and SUA\n",
    "Influence of topography and local heterogeneity in coding on decoding from spikes\n",
    "\n",
    "Loading in binary data\n",
    "\n",
    "Common average referencing, filtering, peak detection\n",
    "Waveform sorting\n",
    "Waveform quality metrics - firing rate, ISI violations, waveform signal to noise, presence ratio, amplitude cutoff, \n",
    "\n",
    "Introduction of visual coding dataset from Allen Institute\n",
    "Loading spike data from Allen Institute\n",
    "\n",
    "Binning spike times, stimulus-triggered histogram."
   ]
  },
  {
   "cell_type": "markdown",
   "metadata": {},
   "source": [
    "## Action potentials and extracellular spikes\n",
    "In Week 1 we simulated a sheet of neurons and then moved a simulated electrode closer and closer to them. Recall that neurons receive relatively slow (50 ms long) synaptic inputs that occasional trigger them to fire an action potential. Action potentials are large, brief (~1ms), positive going swings of the membrane voltage. These are conducted down the neuron's axon towards its target, eliciting synaptic responses in their targets. All these events can be detected by electrodes placed near the neurons, with the distance of the electrode from the neuron strongly impacting which are seen.\n",
    "\n",
    "![Extracellular field with distance](./images/simulated_fields.png)\n",
    "\n",
    "When the electrode was at 2 cm we only saw a weak slow signal that reflected the shared excitability of all the neurons and their correlated synaptic drive. This signal resembles what is seen with EEG electrodes placed on the scalp. As we moved the electrode closer, to be 0.5 mm from the neurons as is the case with ECoG electrodes, the signal got stronger and high frequency buzzing appeared that reflected the activity of small populations of neurons. Finally, driving our electrode to within 10 um of a single neuron (less than the thickness of a human hair), we could see the extracellular reflection of its action potential towering over the slow shared synaptic signals. This signal is what is seen when small tipped electrodes are inserted into the brain near neurons. The extracellular action potentials are referred to as *spikes* and the slow activity resembling the ECoG signal is generally referred to as the *local field potential* (LFP). Because the notion that spikes arise from extracellular action potentials is often an inference - we don't independently confirm it with another measurement modality - we refer to the source of a spike as a *unit* and not a neuron. When a particular collection of spikes we record are thought to arise from just a single neuron they are called *single unit activity*. If we think that multiple neurons contribute to the spikes, then they are called *multiunit activity*.\n",
    "\n",
    "Over the years, a variety of electrodes have been used to record spikes. The general principle is that the recording site is small and lies somewhere along a thin shaft. The size of the recording site can vary, but generally its diameter is on the order of a single neuron, ~15 um. Electrodes originally tended to be sharpened tungsten needles with insulation within a micron of the tip. With these one could easily record single unit activity. To make these, a rod of tungsten is etched to a point by repeatedly dipping it in acid, then coated with a varnish to insulate it, followed by placement in a sparking chamber to burn off a microscopic portion of insulation at the tip.\n",
    "Microwires can be used as well. These are easier to manufacture, you just buy the wire, which ranges from 10 to 50 microns in diameter, and then bundle them into an array with the desired configuration. Because of their large recording surface areas, one typically detects spikes arising from many units that are difficult to separate. \n",
    "To allow for better separation of units, in the late 1970s and early 80s workers began to bundle their microwires closely together into stereotrodes and tetrodes by twisting them together. This allowed for the detection of many units, but each with its own distinct waveform profile across the various recording sites, so they could be sorted into single units.\n",
    "Silicon probes were developed first in the late 1960s, but only became readily available in the early 2000s. Allows for groups of recording sites to be staggered at regular intervals and with arbitrary site geometry. \n",
    "\n",
    "![Examples of spike recording electrodes](./images/ClassicElectrodeExamples.png)\n",
    "\n",
    "The reviewed above have primarily been used in animal studies, but there are design that are intended for human use. The current favorite is a splayed bundle of microwires that emerges from a shank containing large electrodes capable of recording signals akin to the ECoG. The shank is inserted deep into the brain to access structures that are not on the cortical surface (typically the hippocampus or amygdala in patients undergoing treatment for medial temoral lobe epilepsy). Another design, the Utah Array (designed at the University of Utah), is an array of sharpened silicon electrodes that is pushed into the cortical surface, providing unit activity from neurons immediately under the array. A drawback to this design is that the pin cushion shape of the array causes extensive damage and the sharp electrodes have poor long term performance when recording single unit activity. To overcome those challenges, Neuralink has designed a soft electrode array where the recording sites are spaced along its length. These are then inserted rapidly one at a time into the brain using a robotic device and then left to 'float' in the brain. This minimizes mechanical damage caused by the insertion and chronic damage since the electrodes will move with the brain. It recently won FDA approval for testing in humans (but without some controversy!). Lastly, scientists have adapted the same chip fabrication techology that makes image sensors in cell phones to create high density electrode arrays with thousands of recording sites. These probes include all the amplification, filtering, and digization on the chip, meaning that only a single two-wire cable is required to stream the data to a computer. These have begun to be used intraoperatively to decode human brain activity (e.g. [speech decoding](https://www.nature.com/articles/s41586-023-06839-2)).\n",
    "\n",
    "![Recent examples of spike recording electrodes](./images/RecentElectrodeExamples.png)"
   ]
  },
  {
   "cell_type": "markdown",
   "metadata": {},
   "source": [
    "## What can spikes tell us?\n",
    "Spikes give us two distinct kinds of information: their waveforms and the times they occur. \n",
    "\n",
    "Spike waveforms are determined by the shape of the neuron, the distribution of currents moving across its membrane that create the action potential, and the relative location of the electrode. These factors can interact to create a variety of spike waveforms depending. This is demonstrated when we consider the amplitude of the waveform for neurons with different shapes. For this analysis to work, we have to bring another fact to bear: that the net transmembrane current across an entire neuron is zero. This comes from Kirchoff’s current law. What this means is that an action potential at the soma, which is associated with an inward current, will have a corresponding outward current in the distal dendrites. Likewise, a synaptic inward current in the dendrites will produce an outward current at the cell body. These ‘return’ currents are passive and summated with the active currents present in the membrane.\n",
    "\n",
    "![Einevoll et al 2013 figure]()\n",
    "\n",
    "Given all that, we can divide neurons into two types. The first is called a closed source, and it applies to cells which are small and multipolar (e.g. stellate). The currents in the sphere of dendrites surrounding the soma will have an opposite sign to the current at the soma, effectively acting as a shield and reducing the strength of the field we can detect.\n",
    "The second is called an open source, and it applies to cells which are elongated with only a few principal dendritic branches (e.g. pyramidal). The inward and outward pair of currents separated by some distance acts as dipole, which enhances the strength of the field one detects.\n",
    "\n",
    "![Linden et al. 2011 figure]()\n",
    "\n",
    "Cortical pyramidal neurons, the principal excitatory neuron in the cortex, tend to be open sources. They produce large spike waveforms that are readily detected. Some times of cortical inhibitory interneurons, which regulate the excitability of pyramidal neurons, have a closed source geometry and usually produce smaller spike waveforms.\n",
    "\n",
    "Despite this, in general the smaller a spike waveform's amplitude is, the farther that neuron is from the electrode. When multiple electrodes are place in close proximity to the neuron, so each picks up its spiking activity, they will each have a different spike waveform. For instance, ...\n",
    "\n",
    "![Gold et al. figure]()\n",
    "\n",
    "This can be leveraged to better isolate single units from multiunit recordings."
   ]
  },
  {
   "cell_type": "code",
   "execution_count": null,
   "metadata": {},
   "outputs": [],
   "source": []
  }
 ],
 "metadata": {
  "language_info": {
   "name": "python"
  }
 },
 "nbformat": 4,
 "nbformat_minor": 2
}
