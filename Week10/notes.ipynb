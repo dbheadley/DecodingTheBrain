{
 "cells": [
  {
   "cell_type": "markdown",
   "metadata": {},
   "source": [
    "# Processing neuronal spikes\n",
    "\n",
    "Action potentials and extracellular electrodes\n",
    "Spikes reflect highly local activity, can be separated into MUA and SUA\n",
    "Influence of topography and local heterogeneity in coding on decoding from spikes\n",
    "\n",
    "Loading in binary data\n",
    "\n",
    "Common average referencing, filtering, peak detection\n",
    "Waveform sorting\n",
    "Waveform quality metrics - firing rate, ISI violations, waveform signal to noise, presence ratio, amplitude cutoff, \n",
    "\n",
    "Introduction of visual coding dataset from Allen Institute\n",
    "Loading spike data from Allen Institute\n",
    "\n",
    "Binning spike times, stimulus-triggered histogram, tuning curve."
   ]
  },
  {
   "cell_type": "code",
   "execution_count": null,
   "metadata": {},
   "outputs": [],
   "source": []
  }
 ],
 "metadata": {
  "language_info": {
   "name": "python"
  }
 },
 "nbformat": 4,
 "nbformat_minor": 2
}
