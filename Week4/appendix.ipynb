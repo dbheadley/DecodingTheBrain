{
 "cells": [
  {
   "cell_type": "markdown",
   "metadata": {},
   "source": [
    "# Appendix\n",
    "\n",
    "## Rules for working with logarithms\n",
    "\n",
    "1. $\\log(xy) = \\log(x) + \\log(y)$\n",
    "2. $\\log\\left(\\frac{x}{y}\\right) = \\log(x) - \\log(y)$\n",
    "3. $\\log(x^n) = n\\log(x)$\n",
    "4. $\\log(1) = 0$\n",
    "5. $\\log(0) = \\text{undefined}$"
   ]
  }
 ],
 "metadata": {
  "language_info": {
   "name": "python"
  }
 },
 "nbformat": 4,
 "nbformat_minor": 2
}
